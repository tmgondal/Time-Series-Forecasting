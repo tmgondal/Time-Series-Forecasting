{
 "cells": [
  {
   "cell_type": "markdown",
   "id": "9dc6eafc",
   "metadata": {},
   "source": [
    "# Video-1 (For Slide1 and 2)\n",
    "# Machine Learning in Time Series Forecasting\t\n",
    "\n",
    "# Overview of the Section\n",
    "\n",
    "**1. Overview of the section**\n",
    "\n",
    "revision\n",
    "applied machune learning\n",
    "\n",
    "\n"
   ]
  },
  {
   "cell_type": "markdown",
   "id": "6ac50ab6",
   "metadata": {},
   "source": [
    "# 1-Overview of this section\n"
   ]
  },
  {
   "cell_type": "markdown",
   "id": "e3a65b96",
   "metadata": {},
   "source": [
    "# What we have done So Far"
   ]
  },
  {
   "cell_type": "markdown",
   "id": "e396a92e",
   "metadata": {},
   "source": [
    "# 2. Overview of Applied Machine Learning in Time Series Forecasting\n",
    "\n",
    "It is a well-known fact that Machine Learning is a powerful technique in imaging, speech and natural language processing for a huge explicated dataset available. On the other hand,\n",
    "\n",
    " \n",
    "\n",
    "1. Problems based on time series do not have usually interpreted datasets, even as data is collected from various sources they exhibit substantial variations in terms of features, properties, attributes, temporal scales, and dimensionality.\n",
    "\n",
    "2. Time series analysis require sorting algorithms that can allow it to learn time-dependent patterns across multiple models which are different from images and speech.\n",
    "\n",
    "3. Various machine learning tools such as classification, clustering, forecasting, and anomaly detection depend upon real-world business applications. \n",
    " \n",
    "\n",
    "Among various defined applications, we are discussing here Time series forecasting, which is an important area of machine learning because there are multiple problems involving time components for making predictions. \n",
    "\n",
    "There are multiple models and methods used as approaches for time series forecasting, let’s understand them more clearly;"
   ]
  },
  {
   "cell_type": "markdown",
   "id": "b2f7dc9d",
   "metadata": {},
   "source": [
    "**ML Methods For Time-Series Forecasting**\n",
    " \n",
    " \n",
    "\n",
    "1. In the **Univariate Time-series Forecasting** method, forecasting problems contain only two variables in which one is time and the other is the field we are looking to forecast. \n",
    "\n",
    "For example, if you want to predict the mean temperature of a city for the coming week, now one parameter is time( week) and the other is a city. \n",
    "Another example could be when measuring a person’s heart rate per minute through using past observations of heart rate only. Now one parameter is time( minute) and the other is a heart rate.\n",
    " \n",
    "\n",
    "2. On the other hand, in the **Multivariate Time-series Forecasting** method, forecasting problems contain multiple variables keeping one variable as time fixed and others can be multiple different parameters.\n",
    "\n"
   ]
  },
  {
   "cell_type": "markdown",
   "id": "f458ea00",
   "metadata": {},
   "source": [
    "**Univariate Time-series Forecasting**\n",
    "\n",
    "In the UTF following are the main forecasting Techniques\n",
    "\n",
    "    1. Autoregression (AR)\n",
    "    2. Moving Average (MA)\n",
    "    3. Autoregressive Moving Average (ARMA)\n",
    "    4. Autoregressive integrated moving average (ARIMA)\n",
    "    5. Auto ARIMA\n",
    "    6. Seasonal Autoregressive Integrated Moving-Average (SARIMA) \n",
    "    7. Auto - SARIMA "
   ]
  },
  {
   "cell_type": "markdown",
   "id": "0ab74ac9",
   "metadata": {},
   "source": [
    "There are many methods that we can use for time series forecasting and there is not a clear winner. Model selection should always depend on how your data looks and what you are trying to achieve. \n",
    "\n",
    "Some models may be more robust against outliers but perform badly than other models on simpler data and could still be the best choice depending on the use case.\n",
    "\n",
    "When looking at your data the main split is wether we have extra regressors (features) to our time series or just the series. Based on this we can start exploring different methods for forecasting and their performance in different metrics.\n",
    "\n",
    "In this section we will show models for both cases, time series with and without extra regressors."
   ]
  },
  {
   "cell_type": "markdown",
   "id": "691d125c",
   "metadata": {},
   "source": [
    "# Video - 2(For Slide3)\n",
    "# 3. Preparaing Data to Apply Forecasting"
   ]
  },
  {
   "cell_type": "markdown",
   "id": "b386eb97",
   "metadata": {},
   "source": [
    "# A- First things First\n",
    "**Import Libraries**\n",
    "\n",
    "To work on the time series models, it is very improtant to have a well preprocessed dataset. In the previous section of this course, we have learned the basics of Data Manipulations to evaluate datasets in Python using Pandas, Numpy and MATPLOTLIB. Here we will use those techniques to modifiy our dataset with the support of Feature Engineering Methods and RVT Models.\n",
    "To start this, first of all, we need to install basic libraries.\n",
    "\n"
   ]
  },
  {
   "cell_type": "code",
   "execution_count": null,
   "id": "725f539f",
   "metadata": {},
   "outputs": [],
   "source": [
    "import numpy as np\n",
    "import pandas as pd\n",
    "\n",
    "import matplotlib.pyplot as plt\n",
    "%matplotlib inline"
   ]
  },
  {
   "cell_type": "markdown",
   "id": "90b27c3c",
   "metadata": {},
   "source": [
    "# B- Overview of the Dataset\n",
    "1. Load dataset into dataframe\n"
   ]
  },
  {
   "cell_type": "code",
   "execution_count": null,
   "id": "59a6859f",
   "metadata": {
    "scrolled": false
   },
   "outputs": [],
   "source": [
    "df= pd.read_csv('datasets/air_pollution.csv', parse_dates=['date'])\n"
   ]
  },
  {
   "cell_type": "code",
   "execution_count": null,
   "id": "8c2a1968",
   "metadata": {
    "scrolled": true
   },
   "outputs": [],
   "source": [
    "df.columns\n"
   ]
  },
  {
   "cell_type": "code",
   "execution_count": null,
   "id": "ae9622a0",
   "metadata": {},
   "outputs": [],
   "source": [
    "df.drop(['dew', 'temp', 'temp',\n",
    "       'press', 'wnd_spd','pollution_yesterday','snow','rain'], axis=1, inplace=True)\n",
    "df.set_index('date', inplace=True)\n",
    "df"
   ]
  },
  {
   "cell_type": "code",
   "execution_count": null,
   "id": "dc70153e",
   "metadata": {
    "scrolled": true
   },
   "outputs": [],
   "source": [
    "df.isnull().sum()"
   ]
  },
  {
   "cell_type": "code",
   "execution_count": null,
   "id": "23d20107",
   "metadata": {},
   "outputs": [],
   "source": [
    "df.plot(figsize=(15, 6))\n",
    "plt.show()"
   ]
  },
  {
   "cell_type": "markdown",
   "id": "a185607a",
   "metadata": {},
   "source": [
    "# C- Compute the Difference"
   ]
  },
  {
   "cell_type": "code",
   "execution_count": null,
   "id": "77eb3193",
   "metadata": {},
   "outputs": [],
   "source": [
    "df['pollution_today'].shift(1)"
   ]
  },
  {
   "cell_type": "code",
   "execution_count": null,
   "id": "deb8fd1f",
   "metadata": {},
   "outputs": [],
   "source": [
    "#for one day\n",
    "df['Pollution_today First Difference'] = df['pollution_today'] - df['pollution_today'].shift(1)"
   ]
  },
  {
   "cell_type": "code",
   "execution_count": null,
   "id": "855b168a",
   "metadata": {},
   "outputs": [],
   "source": [
    "#for 12 days\n",
    "df['Pollution_today Seasonal First Difference']=df['pollution_today']-df['pollution_today'].shift(12)"
   ]
  },
  {
   "cell_type": "code",
   "execution_count": null,
   "id": "4ed8ff94",
   "metadata": {},
   "outputs": [],
   "source": [
    "df.head(14)"
   ]
  },
  {
   "cell_type": "markdown",
   "id": "1f4229a5",
   "metadata": {},
   "source": [
    "# Revision of Stationary Check"
   ]
  },
  {
   "cell_type": "code",
   "execution_count": null,
   "id": "6f9033e1",
   "metadata": {},
   "outputs": [],
   "source": [
    "from statsmodels.tsa.stattools import adfuller\n",
    "\n",
    "result=adfuller(df['pollution_today'])\n",
    "print('ADF Statistics: %f'% result[0])\n",
    "print('p value %f'% result[1])\n",
    "print('critical values:')\n",
    "for key, value in result[4].items():\n",
    "    print('\\t%s: %.3f'%(key, value))"
   ]
  },
  {
   "cell_type": "code",
   "execution_count": null,
   "id": "cc2f026e",
   "metadata": {},
   "outputs": [],
   "source": [
    "result=adfuller(df['Pollution_today First Difference'].dropna())\n",
    "print('ADF Statistics: %f'% result[0])\n",
    "print('p value %f'% result[1])\n",
    "print('critical values:')\n",
    "for key, value in result[4].items():\n",
    "    print('\\t%s: %.3f'%(key, value))"
   ]
  },
  {
   "cell_type": "code",
   "execution_count": null,
   "id": "faf92ab3",
   "metadata": {},
   "outputs": [],
   "source": [
    "result=adfuller(df['Pollution_today Seasonal First Difference'].dropna())\n",
    "print('ADF Statistics: %f'% result[0])\n",
    "print('p value %f'% result[1])\n",
    "print('critical values:')\n",
    "for key, value in result[4].items():\n",
    "    print('\\t%s: %.3f'%(key, value))"
   ]
  },
  {
   "cell_type": "code",
   "execution_count": null,
   "id": "30e3a14d",
   "metadata": {},
   "outputs": [],
   "source": [
    "df['Pollution_today Seasonal First Difference'].plot(figsize=(15, 6))"
   ]
  },
  {
   "cell_type": "markdown",
   "id": "017028df",
   "metadata": {},
   "source": [
    "# Video 3 (For Slide4)"
   ]
  },
  {
   "cell_type": "markdown",
   "id": "4665155f",
   "metadata": {},
   "source": [
    "# Auto-Correlation and Partial Correlation\n",
    "\n"
   ]
  },
  {
   "cell_type": "markdown",
   "id": "00bad677",
   "metadata": {},
   "source": [
    "Auto Correlation function takes into consideration of all the past observations irrespective of its effect on the future or present time period. It calculates the correlation between the t and (t-k) time period.\n",
    "\n",
    "It includes all the lags or intervals between t and (t-k) time periods. Correlation is always calculated using the Pearson Correlation formula.\n",
    "\n",
    "\n",
    "The PACF determines the partial correlation between time period t and t-k. It doesn’t take into consideration all the time lags between t and t-k. For example. let's assume that today's stock price may be dependent on 3 days prior stock price but it might not take into consideration yesterday's stock price closure.\n",
    "\n",
    "Hence we consider only the time lags having a direct impact on future time period by neglecting the insignificant time lags in between the two-time slots t and t-k."
   ]
  },
  {
   "cell_type": "code",
   "execution_count": null,
   "id": "fa62defc",
   "metadata": {},
   "outputs": [],
   "source": [
    "from statsmodels.graphics.tsaplots import plot_acf,plot_pacf\n",
    "import statsmodels.api as sm"
   ]
  },
  {
   "cell_type": "code",
   "execution_count": null,
   "id": "59ee1ad3",
   "metadata": {},
   "outputs": [],
   "source": [
    "fig = plt.figure(figsize=(12,8))\n",
    "ax1 = fig.add_subplot(211)\n",
    "fig = sm.graphics.tsa.plot_acf(df['pollution_today'],lags=30,ax=ax1)\n",
    "ax2 = fig.add_subplot(212)\n",
    "fig = sm.graphics.tsa.plot_pacf(df['pollution_today'],lags=30,ax=ax2)"
   ]
  },
  {
   "cell_type": "code",
   "execution_count": null,
   "id": "c589bc21",
   "metadata": {},
   "outputs": [],
   "source": [
    "#including all values\n",
    "df['Pollution_today Seasonal First Difference']"
   ]
  },
  {
   "cell_type": "code",
   "execution_count": null,
   "id": "b6ca8fb4",
   "metadata": {},
   "outputs": [],
   "source": [
    "df['Pollution_today Seasonal First Difference'].iloc[13:]"
   ]
  },
  {
   "cell_type": "code",
   "execution_count": null,
   "id": "54052d73",
   "metadata": {},
   "outputs": [],
   "source": [
    "fig = plt.figure(figsize=(12,8))\n",
    "ax1 = fig.add_subplot(211)\n",
    "fig = sm.graphics.tsa.plot_acf(df['Pollution_today Seasonal First Difference'].iloc[13:],lags=40,ax=ax1)\n",
    "ax2 = fig.add_subplot(212)\n",
    "fig = sm.graphics.tsa.plot_pacf(df['Pollution_today Seasonal First Difference'].iloc[13:],lags=40,ax=ax2)"
   ]
  },
  {
   "cell_type": "markdown",
   "id": "9c3d9928",
   "metadata": {},
   "source": [
    "Final Thoughts on Autocorrelation and Partial Autocorrelation\n",
    "\n",
    "Identification of an AR model is often best done with the PACF.\n",
    "\n",
    "**For an AR model**, \n",
    "the theoretical PACF “shuts off” past the order of the model. The phrase “shuts off” means that in theory the partial autocorrelations are equal to 0 beyond that point. Put another way, the number of non-zero partial autocorrelations gives the order of the AR model. By the “order of the model” we mean the most extreme lag of x that is used as a predictor.\n",
    "\n",
    "\n",
    "However, Identification of an MA model is often best done with the ACF rather than the PACF.\n",
    "\n",
    "**For an MA model**, \n",
    "the theoretical PACF does not shut off, but instead tapers toward 0 in some manner. A clearer pattern for an MA model is in the ACF. The ACF will have non-zero autocorrelations only at lags involved in the model.\n",
    "\n",
    "p,d,q are the three parameters that are used in time series analysis.\n",
    "\n",
    "p AR model lags \n",
    "\n",
    "d differencing \n",
    "\n",
    "q MA lags"
   ]
  },
  {
   "cell_type": "markdown",
   "id": "98cc1c7c",
   "metadata": {},
   "source": [
    "# Video - 4\n",
    "# 4- Methods for time series forecasting\n"
   ]
  },
  {
   "cell_type": "markdown",
   "id": "34eef0cc",
   "metadata": {},
   "source": [
    "\n",
    "In this section we will show models for both cases, time series with and without extra regressors(features)."
   ]
  },
  {
   "cell_type": "code",
   "execution_count": null,
   "id": "e573038f",
   "metadata": {},
   "outputs": [],
   "source": [
    "df"
   ]
  },
  {
   "cell_type": "markdown",
   "id": "e09bc18c",
   "metadata": {},
   "source": [
    "**Prepare data before modeling**"
   ]
  },
  {
   "cell_type": "code",
   "execution_count": null,
   "id": "ebf70e84",
   "metadata": {},
   "outputs": [],
   "source": [
    "# We split our dataset to be able to evaluate our models\n",
    "\n",
    "resultsDict = {}\n",
    "predictionsDict = {}\n",
    "\n",
    "\n",
    "split_date = '2010-10-01'\n",
    "df_training = df.loc[df.index <= split_date]\n",
    "df_test = df.loc[df.index > split_date]\n",
    "print(f\"{len(df_training)} days of training data \\n {len(df_test)} days of testing data \")"
   ]
  },
  {
   "cell_type": "markdown",
   "id": "5a3e63b0",
   "metadata": {},
   "source": [
    "It is also very important to include some naive forecast as the series mean or previous value to make sure our models perform better than the simplest of the simplest. \n",
    "\n",
    "We dont want to introduce any complexity if it does not provides any performance gain."
   ]
  },
  {
   "attachments": {
    "image.png": {
     "image/png": "[encoded data removed]"
    }
   },
   "cell_type": "markdown",
   "id": "0e5464d9",
   "metadata": {},
   "source": [
    "# Video - 5\n",
    "\n",
    "# A- Autoregression (AR)\n",
    "The term AR stands for autoregression. \n",
    "\n",
    "Which indicates that the model uses the dependent relationship between current data and its past values. \n",
    "\n",
    "The number of preceding inputs used to predict the next value is called order and is usually referred to as p.\n",
    "\n",
    "The time period at t is impacted by the observation at various slots t-1, t-2, t-3, ….., t-k. The impact of previous time spots is decided by the coefficient factor at that particular period of time. The price of a share of any particular company X may depend on all the previous share prices in the time series. This kind of model calculates the regression of past time series and calculates the present or future values in the series in know as Auto Regression (AR) model.\n",
    "\n",
    "\n",
    "**Number of AR (Auto-Regressive) terms (p):**\n",
    "p is the parameter associated with the auto-regressive aspect of the model, which incorporates past values i.e lags of dependent variable. For instance if p is 5, the predictors for x(t) will be x(t-1)….x(t-5).\n",
    "\n",
    "Consider an example of a milk distribution company that produces milk every month in the country. We want to calculate the amount of milk to be produced current month considering the milk generated in the last year. We begin by calculating the PACF values of all the 12 lags with respect to the current month. If the value of the PACF of any particular month is more than a significant value only those values will be considered for the model analysis.\n",
    "\n",
    "\n",
    "For e.g in the above figure the values 1,2, 3 up to 12 displays the direct effect(PACF) of the milk production in the current month w.r.t the given the lag t. If we consider two significant values above the threshold then the model will be termed as AR(2).\n",
    "![image.png](attachment:image.png)"
   ]
  },
  {
   "cell_type": "code",
   "execution_count": null,
   "id": "826dd5a5",
   "metadata": {},
   "outputs": [],
   "source": [
    "#lets import the AutoReg model from statsmodel\n",
    "from statsmodels.tsa.ar_model import AutoReg\n",
    "from tqdm import tqdm\n",
    "from utils.metrics import evaluate"
   ]
  },
  {
   "cell_type": "code",
   "execution_count": null,
   "id": "f75a53b3",
   "metadata": {},
   "outputs": [],
   "source": [
    "#!pip install tqdm"
   ]
  },
  {
   "cell_type": "code",
   "execution_count": null,
   "id": "9f3d1a3b",
   "metadata": {},
   "outputs": [],
   "source": []
  },
  {
   "cell_type": "code",
   "execution_count": null,
   "id": "b893318b",
   "metadata": {
    "scrolled": false
   },
   "outputs": [],
   "source": [
    "# Walk throught the test data, training and predicting 1 day ahead for all the test data\n",
    "\n",
    "#Now lets set the take the index as per the length of  \n",
    "\n",
    "index = len(df_training)\n",
    "#make a variable\n",
    "y = list()\n",
    "#tqdm is a wrapper function that hides the lenght of iterable \n",
    "# Using tqdm is very simple, you just need to add your code between tqdm() after importing the library in your code. \n",
    "#You need to make sure that the code you put in between the tqdm() function must be iterable or it would not work at all.\n",
    "for t in tqdm(range(len(df_test.pollution_today))):\n",
    "    temp_train = df[:len(df_training)+t]\n",
    "    #We can take lags as per our choice\n",
    "    model = AutoReg(temp_train.pollution_today, lags=50)\n",
    "    model_fit = model.fit()\n",
    "    predictions = model_fit.predict(\n",
    "        start=len(temp_train), end=len(temp_train), dynamic=False)\n",
    "    y = y + [predictions]\n",
    "# Concatenate pandas objects along a particular axis with optional set logic along the other axes.\n",
    "#Can also add a layer of hierarchical indexing on the concatenation axis, \n",
    "#which may be useful if the labels are the same (or overlapping) on the passed axis number.\n",
    "y = pd.concat(y)\n",
    "resultsDict['AutoReg'] = evaluate(df_test.pollution_today, y.values)\n",
    "predictionsDict['AutoReg'] = y.values"
   ]
  },
  {
   "cell_type": "code",
   "execution_count": null,
   "id": "c1b7d25d",
   "metadata": {},
   "outputs": [],
   "source": [
    "plt.plot(df_test.pollution_today.values, label='Original')\n",
    "plt.plot(y.values, color='red', label='AutoReg predicted')\n",
    "plt.legend()"
   ]
  },
  {
   "cell_type": "code",
   "execution_count": null,
   "id": "80335ec2",
   "metadata": {
    "scrolled": true
   },
   "outputs": [],
   "source": [
    "model_fit.summary()"
   ]
  },
  {
   "attachments": {
    "image.png": {
     "image/png": "[encoded data removed]"
    }
   },
   "cell_type": "markdown",
   "id": "c90c668c",
   "metadata": {},
   "source": [
    "# Video - 6\n",
    "# B-Moving average\n",
    "\n",
    "\n",
    "The Moving Average (MA) method models the next step in the sequence as the average of a window of observations at prior time steps. Parameters of the model:\n",
    "\n",
    "\n",
    "Number of MA (Moving Average) terms (q): q is size of the moving average part window of the model i.e. lagged forecast errors in prediction equation. For instance if q is 5, the predictors for x(t) will be e(t-1)….e(t-5) where e(i) is the difference between the moving average at ith instant and actual value.\n",
    "\n",
    "Consider an example of Cake distribution during my birthday. Let's assume that your mom asks you to bring pastries to the party. Every year you miss judging the no of invites to the party and end upbringing more or less no of cakes as per requirement. The difference in the actual and expected results in the error. So you want to avoid the error for this year hence we apply the moving average model on the time series and calculate the no of pastries needed this year based on past collective errors. Next, calculate the ACF values of all the lags in the time series. If the value of the ACF of any particular month is more than a significant value only those values will be considered for the model analysis.\n",
    "\n",
    "\n",
    "For e.g in the below figure the values 1,2, 3 up to 12 displays the total error(ACF) of count in pastries current month w.r.t the given the lag t by considering all the in-between lags between time t and current month. If we consider two significant values above the threshold then the model will be termed as MA(2).\n",
    "\n",
    "![image.png](attachment:image.png)"
   ]
  },
  {
   "cell_type": "markdown",
   "id": "3c72cd6a",
   "metadata": {},
   "source": [
    "# C- ARMA\n",
    "\n"
   ]
  },
  {
   "attachments": {
    "image.png": {
     "image/png": "[encoded data removed]"
    }
   },
   "cell_type": "markdown",
   "id": "7a0924f2",
   "metadata": {},
   "source": [
    "This is a model that is combined from the AR and MA models. In this model, the impact of previous lags along with the residuals is considered for forecasting the future values of the time series. \n",
    "\n",
    "![image.png](attachment:image.png)\n",
    "\n",
    "Consider the above graphs where the MA and AR values are plotted with their respective significant values. Let's assume that we consider only 1 significant value from the AR model and likewise 1 significant value from the MA model. So the ARMA model will be obtained from the combined values of the other two models will be of the order of ARMA(1,1)."
   ]
  },
  {
   "cell_type": "markdown",
   "id": "77020a76",
   "metadata": {},
   "source": [
    "**From 2022, ARMA Model, indvidually has been moved from ARIMA and it is not available for use. To give you more insights, ARMA Example can be seen as, but we will apply ARIMA and SARIMA on our model to check forecasting**"
   ]
  },
  {
   "cell_type": "code",
   "execution_count": null,
   "id": "6a27fd54",
   "metadata": {},
   "outputs": [],
   "source": [
    "# ARMA example\n",
    "from statsmodels.tsa.arima_model import ARMA"
   ]
  },
  {
   "cell_type": "markdown",
   "id": "84697dcc",
   "metadata": {},
   "source": [
    "# Video - 7\n",
    "\n",
    "# D-Auto-Regressive Integrated Moving Average (ARIMA) Model\n"
   ]
  },
  {
   "attachments": {
    "image.png": {
     "image/png": "[encoded data removed]"
    }
   },
   "cell_type": "markdown",
   "id": "333c993c",
   "metadata": {},
   "source": [
    "We know that in order to apply the various models we must in the beginning convert the series into Stationary Time Series. In order to achieve the same, we apply the differencing or Integrated method where we subtract the t-1 value from t values of time series. After applying the first differencing if we are still unable to get the Stationary time series then we again apply the second-order differencing.\n",
    "\n",
    "\n",
    "\n",
    "The ARIMA model is quite similar to the ARMA model other than the fact that it includes one more factor known as Integrated( I ) i.e. differencing which stands for I in the ARIMA model. So in short ARIMA model is a combination of a number of differences already applied on the model in order to make it stationary, the number of previous lags along with residuals errors in order to forecast future values.\n",
    "\n",
    "![image.png](attachment:image.png)\n",
    "\n",
    "Consider the above graphs where the MA and AR values are plotted with their respective significant values. Let's assume that we consider only 1 significant value from the AR model and likewise 1 significant value from the MA model. Also, the graph was initially non-stationary and we had to perform differencing operation once in order to convert into a stationary set. Hence the ARIMA model which will be obtained from the combined values of the other two models along with the Integral operator can be displayed as ARIMA(1,1,1)."
   ]
  },
  {
   "cell_type": "markdown",
   "id": "79ac6462",
   "metadata": {},
   "source": [
    "In an ARIMA model there are 3 parameters that are used to help model the major aspects of a times series: seasonality, trend, and noise. These parameters are labeled p,d,and q.\n",
    "\n",
    "\n",
    "Number of AR (Auto-Regressive) terms (p): p is the parameter associated with the auto-regressive aspect of the model, which incorporates past values i.e lags of dependent variable. For instance if p is 5, the predictors for x(t) will be x(t-1)….x(t-5).\n",
    "Number of Differences (d): d is the parameter associated with the integrated part of the model, which effects the amount of differencing to apply to a time series.\n",
    "\n",
    "\n",
    "Number of MA (Moving Average) terms (q): q is size of the moving average part window of the model i.e. lagged forecast errors in prediction equation. For instance if q is 5, the predictors for x(t) will be e(t-1)….e(t-5) where e(i) is the difference between the moving average at ith instant and actual value.\n",
    "Tuning ARIMA parameters\n",
    "\n",
    "\n",
    "\n",
    "Non stationarity series will require level of differencing (d) >0 in ARIMA Select the lag values for the Autoregression (AR) and Moving Average (MA) parameters, p and q respectively, using PACF, ACF plots AUTOARIMA\n",
    "\n",
    "\n",
    "\n",
    "Note: A problem with ARIMA is that it does not support seasonal data. That is a time series with a repeating cycle. ARIMA expects data that is either not seasonal or has the seasonal component removed, e.g. seasonally adjusted via methods such as seasonal differencing."
   ]
  },
  {
   "cell_type": "code",
   "execution_count": null,
   "id": "a63fb611",
   "metadata": {},
   "outputs": [],
   "source": [
    "# For non-seasonal data\n",
    "#p=1, d=1, q=0 or 1\n",
    "from statsmodels.tsa.arima.model import ARIMA"
   ]
  },
  {
   "cell_type": "code",
   "execution_count": null,
   "id": "cb84f5d8",
   "metadata": {
    "scrolled": true
   },
   "outputs": [],
   "source": [
    "model=ARIMA(df['pollution_today'],order=(1,1,1))\n",
    "model_fit=model.fit()"
   ]
  },
  {
   "cell_type": "code",
   "execution_count": null,
   "id": "e3f24e02",
   "metadata": {},
   "outputs": [],
   "source": [
    "model_fit.summary()"
   ]
  },
  {
   "cell_type": "code",
   "execution_count": null,
   "id": "13e52f23",
   "metadata": {},
   "outputs": [],
   "source": [
    "df['forecast']=model_fit.predict(start=90,end=103,dynamic=True)\n",
    "df[['pollution_today','forecast']].plot(figsize=(12,8))"
   ]
  },
  {
   "cell_type": "markdown",
   "id": "7cce9df5",
   "metadata": {},
   "source": [
    "**Now Lets Change the Values of P,q,d**"
   ]
  },
  {
   "cell_type": "code",
   "execution_count": null,
   "id": "517b380d",
   "metadata": {},
   "outputs": [],
   "source": [
    "model=ARIMA(df['pollution_today'],order=(0,1,0))\n",
    "model_fit=model.fit()"
   ]
  },
  {
   "cell_type": "code",
   "execution_count": null,
   "id": "ce78c597",
   "metadata": {},
   "outputs": [],
   "source": [
    "model_fit.summary()"
   ]
  },
  {
   "cell_type": "code",
   "execution_count": null,
   "id": "7435c945",
   "metadata": {},
   "outputs": [],
   "source": [
    "df['forecast']=model_fit.predict(start=90,end=103,dynamic=True)\n",
    "df[['pollution_today','forecast']].plot(figsize=(12,8))"
   ]
  },
  {
   "cell_type": "markdown",
   "id": "174ea194",
   "metadata": {},
   "source": [
    "**Now Lets Try another variation**"
   ]
  },
  {
   "cell_type": "code",
   "execution_count": null,
   "id": "406f0a5e",
   "metadata": {},
   "outputs": [],
   "source": [
    "model=ARIMA(df['pollution_today'],order=(10,1,10))\n",
    "model_fit=model.fit()\n",
    "model_fit.summary()\n",
    "df['forecast']=model_fit.predict(start=90,end=103,dynamic=True)\n",
    "df[['pollution_today','forecast']].plot(figsize=(12,8))"
   ]
  },
  {
   "cell_type": "markdown",
   "id": "48fa83ce",
   "metadata": {},
   "source": [
    "# Video - 8\n",
    "# E-Auto ARIMA"
   ]
  },
  {
   "cell_type": "code",
   "execution_count": null,
   "id": "3153a4c4",
   "metadata": {},
   "outputs": [],
   "source": [
    "# !pip install pmdarima"
   ]
  },
  {
   "cell_type": "code",
   "execution_count": null,
   "id": "ade957e9",
   "metadata": {},
   "outputs": [],
   "source": [
    "import pmdarima as pm\n"
   ]
  },
  {
   "cell_type": "code",
   "execution_count": null,
   "id": "5b54341a",
   "metadata": {},
   "outputs": [],
   "source": [
    "# building the model\n",
    "\n",
    "autoModel = pm.auto_arima(df_training.pollution_today, trace=True,\n",
    "                          error_action='ignore', suppress_warnings=True, seasonal=False)\n",
    "autoModel.fit(df_training.pollution_today)"
   ]
  },
  {
   "cell_type": "code",
   "execution_count": null,
   "id": "3049450e",
   "metadata": {
    "scrolled": false
   },
   "outputs": [],
   "source": [
    "order = autoModel.order\n",
    "yhat = list()\n",
    "for t in tqdm(range(len(df_test.pollution_today))):\n",
    "    temp_train = df[:len(df_training)+t]\n",
    "    model = ARIMA(temp_train.pollution_today, order=order)\n",
    "    model_fit = model.fit()\n",
    "    predictions = model_fit.predict(\n",
    "        start=len(temp_train), end=len(temp_train), dynamic=False)\n",
    "    yhat = yhat + [predictions]\n",
    "\n",
    "yhat = pd.concat(yhat)\n",
    "resultsDict['AutoARIMA {0}'.format(order)] = evaluate(\n",
    "    df_test.pollution_today, yhat)\n",
    "predictionsDict['AutoARIMA {0}'.format(order)] = yhat.values"
   ]
  },
  {
   "cell_type": "code",
   "execution_count": null,
   "id": "e1a7002f",
   "metadata": {},
   "outputs": [],
   "source": [
    "model_fit.summary()"
   ]
  },
  {
   "cell_type": "code",
   "execution_count": null,
   "id": "b087c640",
   "metadata": {},
   "outputs": [],
   "source": [
    "plt.plot(df_test.pollution_today.values, label='Original')\n",
    "plt.plot(yhat.values, color='red', label='AutoARIMA {0}'.format(order))\n",
    "plt.legend()"
   ]
  },
  {
   "cell_type": "markdown",
   "id": "a8df1005",
   "metadata": {},
   "source": [
    "# Video -9\n"
   ]
  },
  {
   "cell_type": "markdown",
   "id": "bc07e38d",
   "metadata": {},
   "source": [
    "# F- Seasonal Autoregressive Integrated Moving-Average (SARIMA)\n",
    "Seasonal Autoregressive Integrated Moving Average, SARIMA or Seasonal ARIMA, is an extension of ARIMA that explicitly supports univariate time series data with a seasonal component.\n",
    "\n",
    "\n",
    "It adds three new hyperparameters to specify the autoregression (AR), differencing (I) and moving average (MA) for the seasonal component of the series, as well as an additional parameter for the period of the seasonality.\n",
    "\n",
    "\n",
    "Trend Elements:\n",
    "\n",
    "\n",
    "There are three trend elements that require configuration. They are the same as the ARIMA model, specifically:\n",
    "\n",
    "\n",
    "p: Trend autoregression order.\n",
    "\n",
    "d: Trend difference order.\n",
    "\n",
    "q: Trend moving average order.\n",
    "\n",
    "Seasonal Elements:\n",
    "\n",
    "\n",
    "There are four seasonal elements that are not part of ARIMA that must be configured; they are:\n",
    "\n",
    "\n",
    "P: Seasonal autoregressive order.\n",
    "\n",
    "D: Seasonal difference order.\n",
    "\n",
    "Q: Seasonal moving average order.\n",
    "\n",
    "m: The number of time steps for a single seasonal period. For example, an S of 12 for monthly data suggests a yearly seasonal \n",
    "cycle.\n",
    "\n",
    "SARIMA notation: SARIMA(p,d,q)(P,D,Q,m)"
   ]
  },
  {
   "cell_type": "code",
   "execution_count": null,
   "id": "f4c0507b",
   "metadata": {},
   "outputs": [],
   "source": [
    "import statsmodels.api as sm\n"
   ]
  },
  {
   "cell_type": "code",
   "execution_count": null,
   "id": "ca1ca759",
   "metadata": {},
   "outputs": [],
   "source": [
    "#order=(1, 1, 1),seasonal_order=(1,1,1,12)\n",
    "\n",
    "#By changing these values we get different answers"
   ]
  },
  {
   "cell_type": "code",
   "execution_count": null,
   "id": "f3aea02a",
   "metadata": {},
   "outputs": [],
   "source": [
    "model=sm.tsa.statespace.SARIMAX(df['pollution_today'],order=(1, 1, 1),seasonal_order=(1,1,1,12))\n",
    "results=model.fit()"
   ]
  },
  {
   "cell_type": "code",
   "execution_count": null,
   "id": "4c013a6d",
   "metadata": {},
   "outputs": [],
   "source": [
    "results.summary()"
   ]
  },
  {
   "cell_type": "code",
   "execution_count": null,
   "id": "7a5500f6",
   "metadata": {},
   "outputs": [],
   "source": [
    "df['forecast']=results.predict(start=90,end=103,dynamic=True)\n",
    "df[['pollution_today','forecast']].plot(figsize=(12,8))"
   ]
  },
  {
   "cell_type": "code",
   "execution_count": null,
   "id": "da7d14ae",
   "metadata": {},
   "outputs": [],
   "source": [
    "from pandas.tseries.offsets import DateOffset\n",
    "future_dates=[df.index[-1]+ DateOffset(months=x)for x in range(0,24)]"
   ]
  },
  {
   "cell_type": "code",
   "execution_count": null,
   "id": "ab42b744",
   "metadata": {},
   "outputs": [],
   "source": [
    "future_datest_df=pd.DataFrame(index=future_dates[1:],columns=df.columns)\n"
   ]
  },
  {
   "cell_type": "code",
   "execution_count": null,
   "id": "2da73f40",
   "metadata": {},
   "outputs": [],
   "source": [
    "\n",
    "future_datest_df.tail()"
   ]
  },
  {
   "cell_type": "code",
   "execution_count": null,
   "id": "f5ccb85e",
   "metadata": {},
   "outputs": [],
   "source": [
    "future_df=pd.concat([df,future_datest_df])\n"
   ]
  },
  {
   "cell_type": "code",
   "execution_count": null,
   "id": "da8ae35b",
   "metadata": {},
   "outputs": [],
   "source": [
    "future_df['forecast'] = results.predict(start = 104, end = 120, dynamic= True)  \n",
    "future_df[['pollution_today', 'forecast']].plot(figsize=(12, 8)) "
   ]
  },
  {
   "cell_type": "markdown",
   "id": "b8077220",
   "metadata": {},
   "source": [
    "# G- SARIMAX\n",
    "The implementation is called SARIMAX instead of SARIMA because the “X” addition to the method name means that the implementation also supports exogenous variables.\n",
    "\n",
    "Exogenous variables are optional can be specified via the “exog” argument.\n",
    "model = SARIMAX(data, exog=other_data, ...)\n",
    "\n",
    "Rest is same as Above"
   ]
  },
  {
   "cell_type": "markdown",
   "id": "8f4236fa",
   "metadata": {},
   "source": [
    "# Video-10"
   ]
  },
  {
   "cell_type": "markdown",
   "id": "a57c8a01",
   "metadata": {},
   "source": [
    "# H- Auto SARIMA"
   ]
  },
  {
   "cell_type": "code",
   "execution_count": null,
   "id": "85d7104e",
   "metadata": {},
   "outputs": [],
   "source": [
    "# building the model\n",
    "autoModel = pm.auto_arima(df_training.pollution_today, trace=True, error_action='ignore',\n",
    "                          suppress_warnings=True, seasonal=True, m=6, stepwise=True)\n",
    "autoModel.fit(df_training.pollution_today)"
   ]
  },
  {
   "cell_type": "code",
   "execution_count": null,
   "id": "7da9d20c",
   "metadata": {},
   "outputs": [],
   "source": [
    "from statsmodels.tsa.statespace.sarimax import SARIMAX\n"
   ]
  },
  {
   "cell_type": "code",
   "execution_count": null,
   "id": "616fdd1a",
   "metadata": {},
   "outputs": [],
   "source": [
    "order = autoModel.order\n",
    "seasonalOrder = autoModel.seasonal_order\n",
    "yhat = list()\n",
    "for t in tqdm(range(len(df_test.pollution_today))):\n",
    "    temp_train = df[:len(df_training)+t]\n",
    "    model = SARIMAX(temp_train.pollution_today, order=order,\n",
    "                    seasonal_order=seasonalOrder)\n",
    "    model_fit = model.fit(disp=False)\n",
    "    predictions = model_fit.predict(\n",
    "        start=len(temp_train), end=len(temp_train), dynamic=False)\n",
    "    yhat = yhat + [predictions]\n",
    "\n",
    "yhat = pd.concat(yhat)\n",
    "resultsDict['AutoSARIMAX {0},{1}'.format(order, seasonalOrder)] = evaluate(\n",
    "    df_test.pollution_today, yhat.values)\n",
    "predictionsDict['AutoSARIMAX {0},{1}'.format(\n",
    "    order, seasonalOrder)] = yhat.values"
   ]
  },
  {
   "cell_type": "code",
   "execution_count": null,
   "id": "712a6ae5",
   "metadata": {},
   "outputs": [],
   "source": [
    "plt.plot(df_test.pollution_today.values, label='Original')\n",
    "plt.plot(yhat.values, color='red', label='SARIMAX')\n",
    "plt.legend()"
   ]
  },
  {
   "cell_type": "markdown",
   "id": "e4241e6e",
   "metadata": {},
   "source": [
    "# Video 10\n",
    "\n",
    "# I- Comparison of All Models"
   ]
  },
  {
   "cell_type": "markdown",
   "id": "0ae41cad",
   "metadata": {},
   "source": [
    "Since SARIMA brings in seasonality as a parameter, it's significantly more powerful than ARIMA in forecasting complex data spaces containing cycles"
   ]
  },
  {
   "cell_type": "code",
   "execution_count": null,
   "id": "7ab5caa1",
   "metadata": {},
   "outputs": [],
   "source": []
  }
 ],
 "metadata": {
  "kernelspec": {
   "display_name": "Python 3 (ipykernel)",
   "language": "python",
   "name": "python3"
  },
  "language_info": {
   "codemirror_mode": {
    "name": "ipython",
    "version": 3
   },
   "file_extension": ".py",
   "mimetype": "text/x-python",
   "name": "python",
   "nbconvert_exporter": "python",
   "pygments_lexer": "ipython3",
   "version": "3.9.12"
  }
 },
 "nbformat": 4,
 "nbformat_minor": 5
}
